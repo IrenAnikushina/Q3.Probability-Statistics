{
 "cells": [
  {
   "cell_type": "code",
   "execution_count": 1,
   "metadata": {},
   "outputs": [],
   "source": [
    "import pandas as pd\n",
    "import numpy as np\n",
    "from scipy import stats\n",
    "import matplotlib.pyplot as plt"
   ]
  },
  {
   "cell_type": "markdown",
   "metadata": {},
   "source": [
    "## Задача 1\n",
    "\n",
    "### Коробки с шоколадом упаковываются автоматически. Их средняя масса равна 1.06 кг. Известно, что 5% коробок имеют массу, меньшую 1 кг. Найдите: а) среднее квадратическое отклонение массы коробки, б) процент коробок, имеющих массу больше 1.1 кг.\n",
    "\n",
    "#### Подсказка. 1. Можно считать, что распределение массы коробки нормальное. 2. Найдите такое значение scale, для которого значение cdf(x=1, loc=1.06, scale=scale) близко к 0.05. Точности 0.0001 будет достаточно."
   ]
  },
  {
   "cell_type": "markdown",
   "metadata": {},
   "source": [
    "𝑃(𝑋<1) = 0.05 = F(1)"
   ]
  },
  {
   "cell_type": "code",
   "execution_count": 2,
   "metadata": {},
   "outputs": [],
   "source": [
    "mu = 1.06\n",
    "p = 0.05\n",
    "er = 0.0001\n",
    "start = 0\n",
    "end = 1"
   ]
  },
  {
   "cell_type": "code",
   "execution_count": 4,
   "metadata": {},
   "outputs": [
    {
     "name": "stdout",
     "output_type": "stream",
     "text": [
      "scale =  0.0365\n"
     ]
    }
   ],
   "source": [
    "while True:\n",
    "    scale = (start + end)/2\n",
    "    cdf = stats.norm.cdf(1, loc = mu, scale = scale)\n",
    "    if cdf <= p - er:\n",
    "        start = scale\n",
    "    elif cdf >= p + er:\n",
    "        end = scale\n",
    "    else:\n",
    "        print('scale = ', round(scale, 4))\n",
    "        break"
   ]
  },
  {
   "cell_type": "markdown",
   "metadata": {},
   "source": [
    "Таким образом, а) среднее квадратическое отклонение массы коробки scale = 0.0365"
   ]
  },
  {
   "cell_type": "markdown",
   "metadata": {},
   "source": [
    "Далее ищем процент коробок с массой более 1.1\n",
    "\n",
    "P(x>1.1) = 1 - P(x<1.1)"
   ]
  },
  {
   "cell_type": "code",
   "execution_count": 6,
   "metadata": {},
   "outputs": [
    {
     "name": "stdout",
     "output_type": "stream",
     "text": [
      "0.1364\n"
     ]
    }
   ],
   "source": [
    "b = 1 - stats.norm.cdf(1.1, loc = mu, scale = scale)\n",
    "print(round(b, 4))"
   ]
  },
  {
   "cell_type": "markdown",
   "metadata": {},
   "source": [
    "Таким образом, коробки с массой болшье 1.1 составляют 13.6% "
   ]
  },
  {
   "cell_type": "markdown",
   "metadata": {},
   "source": [
    "## Задача 2\n",
    "\n",
    "### Коробка содержит 30 конфет. Известно, что масса каждой конфеты распределена равномерно в промежутке от 12 до 14 граммов. Используя центральную предельную теорему, найти вероятность, что масса всей коробки будет: а) меньше 390 граммов, б) больше 395 граммов, в) от 380 до 400 граммов.\n",
    "\n",
    "### Массой самой коробки можно пренебречь.\n",
    "\n",
    "#### Подсказка. Для равномерного распределения в промежутке [a, b]:\n",
    "#### 1. мат. ожидание равно (a + b) / 2,\n",
    "#### 2. дисперсия равна (b - a)^2 / 12."
   ]
  },
  {
   "cell_type": "code",
   "execution_count": 9,
   "metadata": {},
   "outputs": [],
   "source": [
    "a = 12\n",
    "b = 14\n",
    "n = 30\n",
    "\n",
    "M = (a + b) / 2\n",
    "D = (b - a)**2 / 12\n",
    "\n",
    "mu = n * M\n",
    "sigma = np.sqrt(n * D)"
   ]
  },
  {
   "cell_type": "code",
   "execution_count": 13,
   "metadata": {},
   "outputs": [
    {
     "data": {
      "text/plain": [
       "0.5"
      ]
     },
     "execution_count": 13,
     "metadata": {},
     "output_type": "execute_result"
    }
   ],
   "source": [
    "# вероятность, что масса всей коробки будет: а) меньше 390 граммов \n",
    "# P(x<390) = F(390)\n",
    "\n",
    "stats.norm.cdf(390, loc = mu, scale = sigma)"
   ]
  },
  {
   "cell_type": "code",
   "execution_count": 14,
   "metadata": {},
   "outputs": [
    {
     "data": {
      "text/plain": [
       "0.5"
      ]
     },
     "execution_count": 14,
     "metadata": {},
     "output_type": "execute_result"
    }
   ],
   "source": [
    "# вероятность, что масса всей коробки будет: б) больше 395 граммов\n",
    "# P(x>390) = 1 - F(390)\n",
    "\n",
    "1 - stats.norm.cdf(390, loc = mu, scale = sigma)"
   ]
  },
  {
   "cell_type": "code",
   "execution_count": 15,
   "metadata": {},
   "outputs": [
    {
     "data": {
      "text/plain": [
       "0.9984345977419975"
      ]
     },
     "execution_count": 15,
     "metadata": {},
     "output_type": "execute_result"
    }
   ],
   "source": [
    "# вероятность, что масса всей коробки будет: в) от 380 до 400 граммов.\n",
    "# p(380<x<400) = F(400) - F(380)\n",
    "\n",
    "stats.norm.cdf(400, loc = mu, scale = sigma) - stats.norm.cdf(380, loc = mu, scale = sigma)"
   ]
  },
  {
   "cell_type": "markdown",
   "metadata": {},
   "source": [
    "## Задача 3\n",
    "\n",
    "### Продемонстрируйте действие центральной предельной теоремы на каком-нибудь распределении на ваш выбор (кроме нормального). Что для этого нужно сделать:\n",
    "\n",
    "### 1. Выберите несколько значений n (например, 2, 5, 10, 50)."
   ]
  },
  {
   "cell_type": "markdown",
   "metadata": {},
   "source": [
    "### 2. Для выбранного значения n сгенерируйте 1000 раз выборку размера n из выбранного вами распределения, посчитайте по этой выборке выборочное среднее."
   ]
  },
  {
   "cell_type": "markdown",
   "metadata": {},
   "source": [
    "### 3. Изобразите гистограмму из полученных 1000 значений выборочного среднего с аргументом density=True.\n",
    "\n",
    "### 4. Поверх гистограммы нарисуйте функцию плотности нормального распределения с параметрами из ЦПТ (т.е. mu = M, sigma^2 = D / n, где M - мат. ожидание выбранного вами распределения, D - его дисперсия).\n",
    "#### При достаточно большом n гистограмма должна соответствовать построенной функции плотности."
   ]
  },
  {
   "cell_type": "code",
   "execution_count": 19,
   "metadata": {},
   "outputs": [],
   "source": [
    "n_ = 10\n",
    "p = 0.5\n",
    "\n",
    "m = n_ * p\n",
    "d = n_ * p * (1 - p)\n",
    "\n",
    "n_samples = 1000"
   ]
  },
  {
   "cell_type": "code",
   "execution_count": 20,
   "metadata": {},
   "outputs": [],
   "source": [
    "def get_mean_samples_binomial(n):\n",
    "    samples = np.random.binomial(n_, p, size=(n, n_samples))\n",
    "    \n",
    "    return samples.mean(axis=0)"
   ]
  },
  {
   "cell_type": "code",
   "execution_count": 26,
   "metadata": {},
   "outputs": [
    {
     "data": {
      "text/plain": [
       "[<matplotlib.lines.Line2D at 0x17a25061970>]"
      ]
     },
     "execution_count": 26,
     "metadata": {},
     "output_type": "execute_result"
    },
    {
     "data": {
      "image/png": "[encoded data removed]",
      "text/plain": [
       "<Figure size 432x288 with 1 Axes>"
      ]
     },
     "metadata": {
      "needs_background": "light"
     },
     "output_type": "display_data"
    }
   ],
   "source": [
    "n = 50\n",
    "\n",
    "loc = m\n",
    "scale = np.sqrt(d / n)\n",
    "\n",
    "samples = get_mean_samples_binomial(n)\n",
    "\n",
    "ox = np.linspace(loc - 4 * scale, loc + 4 * scale, 1000)\n",
    "oy = np.array([pdf_normal(loc, scale, x) for x in ox])\n",
    "\n",
    "plt.hist(samples, density=True, bins=20)\n",
    "plt.plot(ox, oy)"
   ]
  }
 ],
 "metadata": {
  "kernelspec": {
   "display_name": "Python 3",
   "language": "python",
   "name": "python3"
  },
  "language_info": {
   "codemirror_mode": {
    "name": "ipython",
    "version": 3
   },
   "file_extension": ".py",
   "mimetype": "text/x-python",
   "name": "python",
   "nbconvert_exporter": "python",
   "pygments_lexer": "ipython3",
   "version": "3.8.3"
  }
 },
 "nbformat": 4,
 "nbformat_minor": 4
}
